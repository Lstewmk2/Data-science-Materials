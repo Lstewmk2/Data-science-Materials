{
 "cells": [
  {
   "cell_type": "markdown",
   "id": "6f37d4b2-e171-45bd-a8bd-840bcb8b7204",
   "metadata": {},
   "source": [
    "# Data Science Tools and Ecosystem"
   ]
  },
  {
   "cell_type": "markdown",
   "id": "a039f4d3-4f1e-4359-9887-ffa4fe70474d",
   "metadata": {},
   "source": [
    "In this notebook, Data Science Tools and Ecosystems are summarized"
   ]
  },
  {
   "cell_type": "markdown",
   "id": "13d88d60-3c82-406c-9c88-c5d9ad058510",
   "metadata": {},
   "source": [
    "__Objectives:__\n",
    "\n",
    "- Listing of popular Data Science Languages\n",
    "- Listing of popular Data Science Libraries\n",
    "- Listing of popular Data Science Tools\n",
    "- Displaying simple arithmetic expressions using the Python 3 (ipykernel) kernal"
   ]
  },
  {
   "cell_type": "markdown",
   "id": "a9633ea5-6439-427b-8154-9f83488e2b09",
   "metadata": {},
   "source": [
    "Some of the popular languages that Data Scientists use are:\n",
    "1. SQL\n",
    "2. Python\n",
    "3. R\n",
    "4. Julia"
   ]
  },
  {
   "cell_type": "markdown",
   "id": "15f30be1-1c2d-4bfd-8844-5ac741bfb9c7",
   "metadata": {},
   "source": [
    "Some of the commonly used libraries used by Data Scientists include:\n",
    "\n",
    "_For Python_\n",
    "1. NumPy\n",
    "2. Plotly\n",
    "3. Matplotlib\n",
    "4. Pandas\n",
    "\n",
    "_For R_\n",
    "1. ggplot2\n",
    "2. Dplyr\n",
    "3. Caret\n"
   ]
  },
  {
   "cell_type": "markdown",
   "id": "59bb3262-c05b-4adf-8909-c56bd6f5c451",
   "metadata": {},
   "source": [
    "|Data Science Tools|\n",
    "|------------------|\n",
    "|MySQL|\n",
    "|Apache Spark|\n",
    "|CounchDB|"
   ]
  },
  {
   "cell_type": "markdown",
   "id": "fc101659-7fe8-4591-bad3-5326337e8747",
   "metadata": {},
   "source": [
    "Below are a few examples of evaluating arithmetic expressions in Python"
   ]
  },
  {
   "cell_type": "code",
   "execution_count": 5,
   "id": "13c18b50-fd76-479d-aa0e-513b41c2587c",
   "metadata": {},
   "outputs": [
    {
     "data": {
      "text/plain": [
       "17"
      ]
     },
     "execution_count": 5,
     "metadata": {},
     "output_type": "execute_result"
    }
   ],
   "source": [
    "#This is a simple arithmetic expression to multiply then add integers\n",
    "(3*4)+5"
   ]
  },
  {
   "cell_type": "code",
   "execution_count": 6,
   "id": "674d0128-8c11-4718-b44f-c2cdfe01291f",
   "metadata": {},
   "outputs": [
    {
     "data": {
      "text/plain": [
       "3.3333333333333335"
      ]
     },
     "execution_count": 6,
     "metadata": {},
     "output_type": "execute_result"
    }
   ],
   "source": [
    "#This will convert 200 minutes to hours by dividing by 60\n",
    "200/60"
   ]
  },
  {
   "cell_type": "markdown",
   "id": "2e704ca1-366a-4073-a40e-02bbd876f938",
   "metadata": {},
   "source": [
    "## Author\n",
    "Liam Stewart"
   ]
  },
  {
   "cell_type": "code",
   "execution_count": null,
   "id": "ec80ab86-fe71-4ebf-a8b2-2bfeaff29266",
   "metadata": {},
   "outputs": [],
   "source": []
  }
 ],
 "metadata": {
  "kernelspec": {
   "display_name": "Python 3 (ipykernel)",
   "language": "python",
   "name": "python3"
  },
  "language_info": {
   "codemirror_mode": {
    "name": "ipython",
    "version": 3
   },
   "file_extension": ".py",
   "mimetype": "text/x-python",
   "name": "python",
   "nbconvert_exporter": "python",
   "pygments_lexer": "ipython3",
   "version": "3.11.9"
  }
 },
 "nbformat": 4,
 "nbformat_minor": 5
}
